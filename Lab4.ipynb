{
  "cells": [
    {
      "cell_type": "code",
      "execution_count": null,
      "metadata": {
        "id": "EkxJ5TDW7-sX"
      },
      "outputs": [],
      "source": [
        "# Revision\n",
        "import cv2\n",
        "import matplotlib.pyplot as plt"
      ],
      "id": "EkxJ5TDW7-sX"
    },
    {
      "cell_type": "code",
      "execution_count": null,
      "metadata": {
        "vscode": {
          "languageId": "plaintext"
        },
        "id": "vHL2kN0u7-sY"
      },
      "outputs": [],
      "source": [
        "\n",
        "\n",
        "# Ensure both images have same dimension (otherwise resize)\n",
        "im1 = cv2.imread('/content/house1.jpg')\n",
        "im2 = cv2.imread('/content/house2.jpg')\n",
        "\n",
        "# Union (OR) of images\n",
        "union = cv2.max(im1, im2)\n",
        "\n",
        "# Intersection (AND) of images\n",
        "intersection = cv2.min(im1, im2)\n",
        "\n",
        "# Difference (XOR) of images\n",
        "difference = cv2.absdiff(im1, im2)\n",
        "\n",
        "# Complement of the image\n",
        "complement = cv2.bitwise_not(im1)\n",
        "\n",
        "# Display the results\n",
        "plt.subplot(221)\n",
        "plt.imshow(union)\n",
        "plt.title('Union')\n",
        "plt.axis('off')\n",
        "\n",
        "plt.subplot(222)\n",
        "plt.imshow(intersection)\n",
        "plt.title('Intersection')\n",
        "plt.axis('off')\n",
        "\n",
        "plt.subplot(223)\n",
        "plt.imshow(difference)\n",
        "plt.title('Difference')\n",
        "plt.axis('off')\n",
        "\n",
        "plt.subplot(224)\n",
        "plt.imshow(complement)\n",
        "plt.title('Complement')\n",
        "plt.axis('off')\n"
      ],
      "id": "vHL2kN0u7-sY"
    }
  ],
  "metadata": {
    "kernelspec": {
      "display_name": "Python 3 (ipykernel)",
      "language": "python",
      "name": "python3"
    },
    "language_info": {
      "codemirror_mode": {
        "name": "ipython",
        "version": 3
      },
      "file_extension": ".py",
      "mimetype": "text/x-python",
      "name": "python",
      "nbconvert_exporter": "python",
      "pygments_lexer": "ipython3",
      "version": "3.7.6"
    },
    "colab": {
      "provenance": []
    }
  },
  "nbformat": 4,
  "nbformat_minor": 5
}